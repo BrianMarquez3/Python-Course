{
 "cells": [
  {
   "cell_type": "code",
   "execution_count": null,
   "metadata": {},
   "outputs": [],
   "source": [
    "#Herencia\n",
    "#Heredear de atributos de un superclases"
   ]
  },
  {
   "cell_type": "code",
   "execution_count": null,
   "metadata": {},
   "outputs": [],
   "source": [
    "#Ejepmlo sin Herencia\n",
    "class Fabrica:\n",
    "    def __init__(self, marca, nombre, precio, descripcion, ruedas=None,distribuidor=None):\n",
    "        self.marca = marca\n",
    "        self.nombre = nombre\n",
    "        self.precio = precio\n",
    "        self.descripcion = descripcion\n",
    "        self.ruedas = ruedas\n",
    "        self.distribuidor = distribuidor\n",
    "\n",
    "#Objeto - Intanciar\n",
    "Auto = Fabrica ('Ford','Brian','camioneta 4x4',4)"
   ]
  },
  {
   "cell_type": "code",
   "execution_count": null,
   "metadata": {},
   "outputs": [],
   "source": [
    "Auto.nombre"
   ]
  },
  {
   "cell_type": "code",
   "execution_count": 25,
   "metadata": {},
   "outputs": [],
   "source": [
    "#con Herencia\n",
    "### SUPERCLASE\n",
    "class Fabrica:\n",
    "    \n",
    "    def __init__(self,marca,nombre,precio,descripcion):\n",
    "        self.marca = marca\n",
    "        self.nombre = nombre\n",
    "        self.precio = precio\n",
    "        self.descripcion = descripcion\n",
    "        \n",
    "    def __str__(self):#string debolvemos los valores \n",
    "        return \"\"\"\n",
    "            MARCA\\t\\t{}\n",
    "            NOMBRE\\t\\t{}\n",
    "            PRECIO\\t\\t{}\n",
    "            DESCRIPCION\\t\\t{}\"\"\".format(self.marca,self.nombre,self.precio,self.descripcion)   "
   ]
  },
  {
   "cell_type": "code",
   "execution_count": 26,
   "metadata": {},
   "outputs": [
    {
     "name": "stdout",
     "output_type": "stream",
     "text": [
      "\n",
      "            MARCA\t\tford\n",
      "            NOMBRE\t\tranger\n",
      "            PRECIO\t\t100.0\n",
      "            DESCRIPCION\t\tcamioneta\n"
     ]
    }
   ],
   "source": [
    "### SUBCLASE\n",
    "class Auto(Fabrica): #EN EL PARENCTESIS HEREDA LA USPER CLASES (fabrica)\n",
    "    pass\n",
    "\n",
    "z = Auto('ford','ranger',100.000,\"camioneta\")\n",
    "print(z)\n"
   ]
  },
  {
   "cell_type": "code",
   "execution_count": 33,
   "metadata": {},
   "outputs": [],
   "source": [
    "class Deportivo(Fabrica):\n",
    "    ruedas =\"\"\n",
    "    distribuidor = \"\"\n",
    "    \n",
    "    def __str__(self):\n",
    "        return \"\"\"\n",
    "            MARCA\\t\\t{}\n",
    "            NOMBRE\\t\\t{}\n",
    "            PRECIO\\t\\t{}\n",
    "            DESCRIPCION\\t\\t{}\n",
    "            RUEDAS\\t\\t{}\n",
    "            DISTRIBUIDOR\\t{}\"\"\".format(self.marca,self.nombre,self.precio,self.descripcion,self.ruedas,self.distribuidor)  \n",
    "    \n",
    "    "
   ]
  },
  {
   "cell_type": "code",
   "execution_count": 34,
   "metadata": {},
   "outputs": [],
   "source": [
    "deportivo = Deportivo (\"volkwagen\",\"Nisan\",4000,\"el mejor\")\n",
    "deportivo.ruedas = 3\n",
    "deportivo.distribuidor = \"tu autito\""
   ]
  },
  {
   "cell_type": "code",
   "execution_count": 35,
   "metadata": {},
   "outputs": [
    {
     "name": "stdout",
     "output_type": "stream",
     "text": [
      "\n",
      "            MARCA\t\tvolkwagen\n",
      "            NOMBRE\t\tNisan\n",
      "            PRECIO\t\t4000\n",
      "            DESCRIPCION\t\tel mejor\n",
      "            RUEDAS\t\t3\n",
      "            DISTRIBUIDOR\ttu autito\n"
     ]
    }
   ],
   "source": [
    "print(deportivo)"
   ]
  },
  {
   "cell_type": "code",
   "execution_count": null,
   "metadata": {},
   "outputs": [],
   "source": []
  }
 ],
 "metadata": {
  "kernelspec": {
   "display_name": "Python 3",
   "language": "python",
   "name": "python3"
  },
  "language_info": {
   "codemirror_mode": {
    "name": "ipython",
    "version": 3
   },
   "file_extension": ".py",
   "mimetype": "text/x-python",
   "name": "python",
   "nbconvert_exporter": "python",
   "pygments_lexer": "ipython3",
   "version": "3.7.6"
  }
 },
 "nbformat": 4,
 "nbformat_minor": 4
}

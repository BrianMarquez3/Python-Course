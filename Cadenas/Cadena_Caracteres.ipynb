{
 "cells": [
  {
   "cell_type": "code",
   "execution_count": 10,
   "metadata": {},
   "outputs": [
    {
     "name": "stdout",
     "output_type": "stream",
     "text": [
      "\"\"Conociendo la cadenas de Caracteres\n",
      "***********************************************************\n",
      "Aqui vemos un sato de linea \n",
      " salto salto\n"
     ]
    }
   ],
   "source": [
    "print(\"\"\"\"\"Conociendo la cadenas de Caracteres\"\"\") #tabulacion\n",
    "print(\"***********************************************************\")\n",
    "\n",
    "\n",
    "Variable = \"Aqui vemos un sato de linea \\n salto salto\"\n",
    "print (Variable)"
   ]
  },
  {
   "cell_type": "code",
   "execution_count": null,
   "metadata": {},
   "outputs": [],
   "source": []
  }
 ],
 "metadata": {
  "kernelspec": {
   "display_name": "Python 3",
   "language": "python",
   "name": "python3"
  },
  "language_info": {
   "codemirror_mode": {
    "name": "ipython",
    "version": 3
   },
   "file_extension": ".py",
   "mimetype": "text/x-python",
   "name": "python",
   "nbconvert_exporter": "python",
   "pygments_lexer": "ipython3",
   "version": "3.7.6"
  }
 },
 "nbformat": 4,
 "nbformat_minor": 4
}
